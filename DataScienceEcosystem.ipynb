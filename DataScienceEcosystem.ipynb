{
 "cells": [
  {
   "cell_type": "markdown",
   "id": "232e7152-8573-48c9-abc2-0fd68c4a4119",
   "metadata": {},
   "source": [
    "# Data Science Ecosystem"
   ]
  },
  {
   "cell_type": "markdown",
   "id": "47c74361-6fc0-4821-b000-87ab57f40ed9",
   "metadata": {},
   "source": [
    "In this notebook, Data Science Tools and Ecosystem summarized"
   ]
  },
  {
   "cell_type": "markdown",
   "id": "7ffd5d4e-ced6-4681-9c83-a5c414455087",
   "metadata": {},
   "source": [
    "Some of the popular languages that Data Scientists use are:\n",
    "1. Python\n",
    "2. R\n",
    "3. Scala \n",
    "4. Java\n",
    "5. Julia\n",
    "6. SQL"
   ]
  },
  {
   "cell_type": "markdown",
   "id": "9bdc739a-4e0d-4c94-8dd9-1aa97b44aafe",
   "metadata": {},
   "source": [
    "**Objectives:**\n",
    "- Using Headers\n",
    "- Listing Data Science Languages\n",
    "- Using Markdown tools\n"
   ]
  },
  {
   "cell_type": "markdown",
   "id": "eabbdc60-c226-4bfe-b3ac-01ff6d214390",
   "metadata": {},
   "source": [
    "Some of the commo ly used libraries used by Data Scientists include:\n",
    "1. Pandas\n",
    "2. TensorFlow\n",
    "3. PyTorch\n",
    "4. Vegas"
   ]
  },
  {
   "cell_type": "markdown",
   "id": "5020e5ed-a95f-4c20-a82b-1a826917f315",
   "metadata": {},
   "source": [
    "|Data Science Tools|\n",
    "|------------------|\n",
    "|MySQL             |\n",
    "|MongoDB|\n",
    "|Hadoop|"
   ]
  },
  {
   "cell_type": "markdown",
   "id": "a80a23f1-1c5e-42c4-b201-b54d0feb9aba",
   "metadata": {},
   "source": [
    "### Below are a few examples of evaluating arithmetic expressions"
   ]
  },
  {
   "cell_type": "code",
   "execution_count": 18,
   "id": "acc73deb-2bcf-4b6d-8c31-194c87466566",
   "metadata": {},
   "outputs": [
    {
     "data": {
      "text/plain": [
       "17"
      ]
     },
     "execution_count": 18,
     "metadata": {},
     "output_type": "execute_result"
    }
   ],
   "source": [
    "## This is a simple arithemtic express to multiple then add integers\n",
    "(3*4)+5"
   ]
  },
  {
   "cell_type": "code",
   "execution_count": 20,
   "id": "f7fccf45-cfa9-42b7-8238-a9622fb5ae2d",
   "metadata": {},
   "outputs": [
    {
     "name": "stdout",
     "output_type": "stream",
     "text": [
      "3.3333333333333335\n"
     ]
    }
   ],
   "source": [
    "## This will convert 200 minutes to hours by dividing by 60\n",
    "hours = 200/60\n",
    "print(hours)"
   ]
  },
  {
   "cell_type": "markdown",
   "id": "1f678ece-248b-4da9-a30d-fd6474ef5570",
   "metadata": {},
   "source": [
    "## Author:\n",
    "Sanjay Mahendroo"
   ]
  }
 ],
 "metadata": {
  "kernelspec": {
   "display_name": "Python [conda env:P_Env]",
   "language": "python",
   "name": "conda-env-P_Env-py"
  },
  "language_info": {
   "codemirror_mode": {
    "name": "ipython",
    "version": 3
   },
   "file_extension": ".py",
   "mimetype": "text/x-python",
   "name": "python",
   "nbconvert_exporter": "python",
   "pygments_lexer": "ipython3",
   "version": "3.12.9"
  }
 },
 "nbformat": 4,
 "nbformat_minor": 5
}
